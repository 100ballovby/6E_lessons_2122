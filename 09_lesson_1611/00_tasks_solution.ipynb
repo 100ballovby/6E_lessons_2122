{
 "cells": [
  {
   "cell_type": "markdown",
   "metadata": {
    "collapsed": true
   },
   "source": [
    "## Задачи (лабораторная №3)\n",
    "\n",
    "<p>Полное условие задач <a href=\"https://docs.google.com/document/d/1Ve4j0vKIGmAtZMoVedwi9ZaVHa6is0sObMw21AQVi40/edit?usp=sharing\" target=\"blank_\">здесь</a>.</p>\n",
    "\n",
    "## Задача №1\n",
    "<p><b>Составьте программу, выводящую на экран квадраты чисел от 10 до 20 включительно.</b></p>\n"
   ]
  },
  {
   "cell_type": "code",
   "execution_count": 2,
   "metadata": {},
   "outputs": [
    {
     "name": "stdout",
     "output_type": "stream",
     "text": [
      "100, 121, 144, 169, 196, 225, 256, 289, 324, 361, 400, "
     ]
    }
   ],
   "source": [
    "for number in range(10, 21):\n",
    "    print(number ** 2, end=\", \")"
   ]
  },
  {
   "cell_type": "markdown",
   "metadata": {},
   "source": [
    "<p><code>range(10, 21)</code> - диапазон строится от 10 и <b>ДО</b> 21. То есть последовательность остановится на числе 20.</p>\n",
    "\n",
    "<p>Цикл <code>for</code> перебирает каждое число из последовательности внутри переменной <code>number</code>.</p>\n",
    "\n",
    "<p>Необязательный параметр <code>end</code> у функции <code>print</code> показывает, чем заканчивается, каждый вывод строки. По умолчанию там стоит символ новой строчки.</p>"
   ]
  },
  {
   "cell_type": "code",
   "execution_count": 4,
   "metadata": {},
   "outputs": [
    {
     "name": "stdout",
     "output_type": "stream",
     "text": [
      "Я на своей строке\n",
      "Я заканчиваюсь звездочкой  ⭐️ А я не на своей строчке.\n"
     ]
    }
   ],
   "source": [
    "print('Я на своей строке')\n",
    "print('Я заканчиваюсь звездочкой ', end=' ⭐️ ')\n",
    "print('А я не на своей строчке.')"
   ]
  },
  {
   "cell_type": "markdown",
   "metadata": {},
   "source": [
    "<hr>\n",
    "\n",
    "## Задача №2\n",
    "<p><b>Даны натуральные числа от 35 до 87. Вывести те из них, которые при делении на 7 дают остаток 1, 2 или 5.</b></p>"
   ]
  },
  {
   "cell_type": "code",
   "execution_count": 6,
   "metadata": {},
   "outputs": [
    {
     "name": "stdout",
     "output_type": "stream",
     "text": [
      "36, 37, 40, 43, 44, 47, 50, 51, 54, 57, 58, 61, 64, 65, 68, 71, 72, 75, 78, 79, 82, 85, 86, "
     ]
    }
   ],
   "source": [
    "for number in range(35, 88):\n",
    "    div = number % 7  # остаток от деления на 7 \n",
    "    if div == 1 or div == 2 or div == 5:\n",
    "        print(number, end=', ')"
   ]
  },
  {
   "cell_type": "markdown",
   "metadata": {},
   "source": [
    "<p>Оператор <code>%</code> возвращает остаток от деления одного числа на другое. Так как мне нужно было найти числа, которые дают остаток 1, 2 или 5, я сначала получил остаток от деления в переменную. А затем число, находящееся в этой переменной, сравнил с остатками 1, 2 и 5. Логическая операция <code>or</code> позволяет вам проверить один из возможных вариантов.</p>\n",
    "\n",
    "<hr>\n",
    "\n",
    "## Задача 3\n",
    "<p><b>Найдите сумму  1+2+3+…+n, где число n вводится пользователем с клавиатуры.</b></p>"
   ]
  },
  {
   "cell_type": "code",
   "execution_count": 7,
   "metadata": {},
   "outputs": [
    {
     "name": "stdout",
     "output_type": "stream",
     "text": [
      "Введите число n: 5\n",
      "15\n"
     ]
    }
   ],
   "source": [
    "n = int(input('Введите число n: '))\n",
    "summary = 0\n",
    "\n",
    "for number in range(1, n + 1):\n",
    "    summary += number \n",
    "    \n",
    "print(summary)"
   ]
  },
  {
   "cell_type": "markdown",
   "metadata": {},
   "source": [
    "## Задача 4\n",
    "\n",
    "<p><b>Найдите произведение цифр трехзначного числа.</b></p>\n",
    "\n",
    "<p>Для решения задачи нужно вспомнить, как математически доставать разряды из числа.</p>\n",
    "\n",
    "<p>Есть число 156. Необходимо разобрать его на сотни, десятки и единицы.</p>\n",
    "<ul>\n",
    "    <li>Для того, чтобы достать сотни, нужно разделить число на 100. <code>156 / 100 = 1.56</code>, поэтому делить будем целочисленно через операторв <code>//</code>.</li>\n",
    "    <li>Для того, чтобы достать разряд десятков и единиц, я должен сначала избавиться от сотен. Потому что из трехзначного числа просто так разряды десятков и единиц не достать. Десятки и единицы - это остаток от деления на 100. <code>156 % 100 = 56</code></li>\n",
    "    <li>Из остатка от деления я могу достать сначала единицы, если верну остаток от деления числа на 10: <code>56 % 10 = 6</code>.</li>\n",
    "    <li>Теперь достаю десятки: это целочисленно разделить число на 10: <code>56 // 10 = 5</code>.</li>\n",
    "</ul>"
   ]
  },
  {
   "cell_type": "code",
   "execution_count": 11,
   "metadata": {},
   "outputs": [
    {
     "name": "stdout",
     "output_type": "stream",
     "text": [
      "Введите число: 764\n",
      "7 * 6 * 4 = 168\n"
     ]
    }
   ],
   "source": [
    "n = int(input('Введите число: '))\n",
    "\n",
    "hundreds = n // 100   # разряд сотен\n",
    "part = n % 100\n",
    "tens = part // 10\n",
    "units = part % 10\n",
    "\n",
    "print(f'{hundreds} * {tens} * {units} = {hundreds * tens * units}')"
   ]
  },
  {
   "cell_type": "markdown",
   "metadata": {},
   "source": [
    "## Задача 5.\n",
    "\n",
    "<p><b>Составьте программы перевода старинных русских мер длины, торгового и аптекарского веса(счетчик цикла от 1 до 10)</b></p>\n",
    "<ul>\n",
    "    <li>саженей в метры(<code>1 сажень</code> равна <code>2.1366 м</code>)</li>\n",
    "<li>из дюймов в сантиметры(<code>1 дюйм</code> равен <code>2.5 см</code>)</li>\n",
    "<li>футов в метры(<code>1 фут</code> равен <code>0.3048 м</code>)</li>\n",
    "<li>драхм в граммы(<code>1 драхма</code> равна <code>3.7325 г</code>)</li>\n",
    "<li>унций в граммы(<code>1 унция</code> равна <code>29.86 г</code>)</li>\n",
    "<li>фунтов в килограммы(<code>1 фунт</code> равен <code>0.40951 кг</code>)</li>\n",
    "<li>аршинов в метры(<code>1 аршин</code> равен <code>0.7112 м</code>)</li>\n",
    "<li>золотников в граммы(<code>1 золотник</code> равен <code>4.2657 г</code>)</li>\n",
    "<li>дюймов в миллиметры(<code>1 дюйм</code> равен <code>25.3995 мм</code>)</li>\n",
    "</ul>"
   ]
  },
  {
   "cell_type": "code",
   "execution_count": null,
   "metadata": {},
   "outputs": [],
   "source": []
  }
 ],
 "metadata": {
  "kernelspec": {
   "display_name": "Python 3 (ipykernel)",
   "language": "python",
   "name": "python3"
  },
  "language_info": {
   "codemirror_mode": {
    "name": "ipython",
    "version": 3
   },
   "file_extension": ".py",
   "mimetype": "text/x-python",
   "name": "python",
   "nbconvert_exporter": "python",
   "pygments_lexer": "ipython3",
   "version": "3.7.7"
  }
 },
 "nbformat": 4,
 "nbformat_minor": 1
}